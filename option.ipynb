{
 "cells": [
  {
   "cell_type": "code",
   "execution_count": 1,
   "metadata": {
    "collapsed": true
   },
   "outputs": [],
   "source": [
    "import numpy as np\n",
    "import neural_net\n",
    "import scipy.stats\n",
    "import matplotlib.pyplot as plt"
   ]
  },
  {
   "cell_type": "code",
   "execution_count": 2,
   "metadata": {
    "collapsed": true
   },
   "outputs": [],
   "source": [
    "def call(K, T):\n",
    "    S=1\n",
    "    vol = 0.2\n",
    "    r=0\n",
    "    d1 = (np.log(S/K) + (r + vol**2/2)*T)/(vol*np.sqrt(T))\n",
    "    d2 = d1 - vol * np.sqrt(T)\n",
    "    return 1*(-K*np.exp(-r*T)*scipy.stats.norm.cdf(d2) + S*scipy.stats.norm.cdf(d1))\n",
    "f = neural_net.Fn([0.5,0.1],[2,5], call)"
   ]
  },
  {
   "cell_type": "code",
   "execution_count": 3,
   "metadata": {
    "collapsed": false
   },
   "outputs": [],
   "source": [
    "training, validation, test = neural_net.load_data(1000,500,500,f)"
   ]
  },
  {
   "cell_type": "code",
   "execution_count": 5,
   "metadata": {
    "collapsed": false
   },
   "outputs": [
    {
     "name": "stdout",
     "output_type": "stream",
     "text": [
      "0.16655687029902194 0.29989980333272026\n",
      "Epoch 5672 training complete. learning_halve = 3\n",
      "Epoch 11120 training complete. learning_halve = 2\n",
      "Epoch 16233 training complete. learning_halve = 1\n",
      "Epoch 21749 training complete. learning_halve = 1\n",
      "Epoch 27321 training complete. learning_halve = 1\n",
      "Epoch 32848 training complete. learning_halve = 1\n",
      "Epoch 38393 training complete. learning_halve = 1\n",
      "Epoch 43885 training complete. learning_halve = 1\n",
      "Epoch 49377 training complete. learning_halve = 1\n",
      "Epoch 54782 training complete. learning_halve = 1\n",
      "Epoch 60333 training complete. learning_halve = 1\n",
      "Epoch 65889 training complete. learning_halve = 1\n",
      "Epoch 71443 training complete. learning_halve = 1\n",
      "Epoch 77053 training complete. learning_halve = 1\n",
      "Epoch 82596 training complete. learning_halve = 1\n",
      "Epoch 88171 training complete. learning_halve = 1\n",
      "Epoch 93750 training complete. learning_halve = 1\n",
      "Epoch 99282 training complete. learning_halve = 1\n",
      "Epoch 104863 training complete. learning_halve = 1\n",
      "Epoch 110437 training complete. learning_halve = 1\n",
      "Epoch 115959 training complete. learning_halve = 1\n",
      "Epoch 121533 training complete. learning_halve = 1\n",
      "Epoch 127115 training complete. learning_halve = 1\n",
      "Epoch 132614 training complete. learning_halve = 1\n",
      "Epoch 138134 training complete. learning_halve = 1\n",
      "Epoch 143703 training complete. learning_halve = 1\n",
      "Epoch 149224 training complete. learning_halve = 1\n",
      "Epoch 154808 training complete. learning_halve = 1\n",
      "Epoch 160401 training complete. learning_halve = 1\n",
      "Epoch 165912 training complete. learning_halve = 1\n",
      "Epoch 171481 training complete. learning_halve = 1\n",
      "Epoch 177062 training complete. learning_halve = 1\n",
      "Epoch 182651 training complete. learning_halve = 1\n",
      "Epoch 188207 training complete. learning_halve = 1\n",
      "Epoch 193813 training complete. learning_halve = 1\n",
      "Epoch 199395 training complete. learning_halve = 1\n",
      "Epoch 204941 training complete. learning_halve = 1\n",
      "Epoch 210476 training complete. learning_halve = 1\n",
      "Epoch 215787 training complete. learning_halve = 1\n",
      "Epoch 221018 training complete. learning_halve = 1\n",
      "Epoch 226433 training complete. learning_halve = 1\n",
      "Epoch 232011 training complete. learning_halve = 1\n",
      "Epoch 237637 training complete. learning_halve = 1\n",
      "Epoch 243042 training complete. learning_halve = 1\n",
      "Epoch 248623 training complete. learning_halve = 1\n",
      "Epoch 254218 training complete. learning_halve = 1\n",
      "Epoch 259785 training complete. learning_halve = 1\n",
      "Epoch 265387 training complete. learning_halve = 1\n",
      "Epoch 270976 training complete. learning_halve = 1\n",
      "Epoch 276546 training complete. learning_halve = 1\n",
      "Epoch 282121 training complete. learning_halve = 1\n",
      "Epoch 287682 training complete. learning_halve = 1\n",
      "Epoch 293229 training complete. learning_halve = 1\n",
      "Epoch 298828 training complete. learning_halve = 1\n",
      "Epoch 304373 training complete. learning_halve = 1\n",
      "Epoch 309939 training complete. learning_halve = 1\n",
      "Epoch 315526 training complete. learning_halve = 1\n",
      "Epoch 321034 training complete. learning_halve = 1\n",
      "Epoch 326608 training complete. learning_halve = 1\n",
      "Epoch 332390 training complete. learning_halve = 1\n",
      "Epoch 338108 training complete. learning_halve = 1\n",
      "Epoch 343629 training complete. learning_halve = 1\n",
      "Epoch 348994 training complete. learning_halve = 1\n",
      "Epoch 354587 training complete. learning_halve = 1\n",
      "Epoch 360193 training complete. learning_halve = 1\n",
      "Epoch 365446 training complete. learning_halve = 1\n",
      "Epoch 370807 training complete. learning_halve = 1\n",
      "Epoch 376321 training complete. learning_halve = 1\n",
      "Epoch 381921 training complete. learning_halve = 1\n",
      "Epoch 387699 training complete. learning_halve = 1\n",
      "Epoch 393141 training complete. learning_halve = 1\n",
      "Epoch 398719 training complete. learning_halve = 1\n",
      "Epoch 404315 training complete. learning_halve = 1\n",
      "Epoch 409891 training complete. learning_halve = 1\n",
      "Epoch 415500 training complete. learning_halve = 1\n",
      "Epoch 421088 training complete. learning_halve = 1\n",
      "Epoch 426650 training complete. learning_halve = 1\n",
      "Epoch 432185 training complete. learning_halve = 1\n",
      "Epoch 437906 training complete. learning_halve = 1\n",
      "Epoch 443415 training complete. learning_halve = 1\n",
      "Epoch 449021 training complete. learning_halve = 1\n",
      "Epoch 454607 training complete. learning_halve = 1\n",
      "Epoch 460162 training complete. learning_halve = 1\n",
      "Epoch 465754 training complete. learning_halve = 1\n",
      "Epoch 471369 training complete. learning_halve = 1\n",
      "Epoch 476938 training complete. learning_halve = 1\n",
      "Epoch 482365 training complete. learning_halve = 1\n",
      "Epoch 488139 training complete. learning_halve = 1\n",
      "Epoch 493338 training complete. learning_halve = 1\n",
      "Epoch 499023 training complete. learning_halve = 1\n",
      "Epoch 504798 training complete. learning_halve = 1\n",
      "Epoch 510393 training complete. learning_halve = 1\n",
      "Epoch 515949 training complete. learning_halve = 1\n",
      "Epoch 521537 training complete. learning_halve = 1\n",
      "Epoch 527242 training complete. learning_halve = 1\n",
      "Epoch 533089 training complete. learning_halve = 1\n",
      "Epoch 538778 training complete. learning_halve = 1\n",
      "Epoch 544495 training complete. learning_halve = 1\n",
      "Epoch 550102 training complete. learning_halve = 1\n",
      "Epoch 555105 training complete. learning_halve = 1\n",
      "Epoch 559906 training complete. learning_halve = 1\n",
      "Epoch 565051 training complete. learning_halve = 1\n",
      "Epoch 570720 training complete. learning_halve = 1\n",
      "Epoch 576541 training complete. learning_halve = 1\n",
      "Epoch 582356 training complete. learning_halve = 1\n",
      "Epoch 588165 training complete. learning_halve = 1\n",
      "Epoch 593967 training complete. learning_halve = 1\n",
      "Epoch 599775 training complete. learning_halve = 1\n",
      "Epoch 605580 training complete. learning_halve = 1\n",
      "Epoch 611400 training complete. learning_halve = 1\n",
      "Epoch 617041 training complete. learning_halve = 1\n",
      "Epoch 622249 training complete. learning_halve = 1\n",
      "Epoch 628067 training complete. learning_halve = 1\n",
      "Epoch 633945 training complete. learning_halve = 1\n",
      "Epoch 639863 training complete. learning_halve = 1\n",
      "Epoch 645597 training complete. learning_halve = 1\n",
      "Epoch 651420 training complete. learning_halve = 1\n",
      "Epoch 657215 training complete. learning_halve = 1\n",
      "Epoch 663112 training complete. learning_halve = 1\n",
      "Epoch 668942 training complete. learning_halve = 1\n",
      "Epoch 674729 training complete. learning_halve = 1\n",
      "Epoch 680659 training complete. learning_halve = 1\n",
      "Epoch 686569 training complete. learning_halve = 1\n",
      "Epoch 692334 training complete. learning_halve = 1\n"
     ]
    },
    {
     "data": {
      "image/png": "[encoded data removed]",
      "text/plain": [
       "<matplotlib.figure.Figure at 0x113323898>"
      ]
     },
     "metadata": {},
     "output_type": "display_data"
    },
    {
     "data": {
      "image/png": "[encoded data removed]",
      "text/plain": [
       "<matplotlib.figure.Figure at 0x1135dec88>"
      ]
     },
     "metadata": {},
     "output_type": "display_data"
    }
   ],
   "source": [
    "size = [2,10,5,1]\n",
    "activation_type = [\"Sigmoid\", \"Sigmoid\", \"Exponential\"]\n",
    "net = neural_net.Network(size, activations=activation_type, Fn=f, cost=neural_net.ExponentialCost)\n",
    "eta = 0.5\n",
    "batch_size = len(training[0])\n",
    "print(net.accuracy(test), net.accuracy(test, flag=\"Max\"))\n",
    "net.SGD(training, batch_size, eta, mu=0.0, \n",
    "         variable_learning=True, evaluation_data=validation, learning_halve=3,\n",
    "       monitor_evaluation_cost=True, monitor_training_accuracy=True, monitor_evaluation_accuracy=True)"
   ]
  },
  {
   "cell_type": "code",
   "execution_count": 6,
   "metadata": {
    "collapsed": false
   },
   "outputs": [
    {
     "name": "stdout",
     "output_type": "stream",
     "text": [
      "0.01049489125324816 0.07628477225263619\n",
      "0.010765289498701789 0.04725739544835161\n"
     ]
    }
   ],
   "source": [
    "print(net.accuracy(training), net.accuracy(training, flag=\"Max\"))\n",
    "print(net.accuracy(test), net.accuracy(test, flag=\"Max\"))"
   ]
  },
  {
   "cell_type": "code",
   "execution_count": null,
   "metadata": {
    "collapsed": true
   },
   "outputs": [],
   "source": []
  }
 ],
 "metadata": {
  "kernelspec": {
   "display_name": "Python 3",
   "language": "python",
   "name": "python3"
  },
  "language_info": {
   "codemirror_mode": {
    "name": "ipython",
    "version": 3
   },
   "file_extension": ".py",
   "mimetype": "text/x-python",
   "name": "python",
   "nbconvert_exporter": "python",
   "pygments_lexer": "ipython3",
   "version": "3.6.4"
  }
 },
 "nbformat": 4,
 "nbformat_minor": 2
}
